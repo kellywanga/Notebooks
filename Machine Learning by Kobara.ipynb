{
 "cells": [
  {
   "cell_type": "markdown",
   "metadata": {},
   "source": [
    "# Machine Learning"
   ]
  },
  {
   "cell_type": "markdown",
   "metadata": {},
   "source": [
    "Machine Learning is a science to make the machine capable of taking the decision itself. These systems also have the ability to learn from past experience or analyze historical data. It provides results according to its experience."
   ]
  },
  {
   "cell_type": "markdown",
   "metadata": {},
   "source": [
    "Machine learning is a technology design to build intelligent systems. These systems also have the ability to learn from past experience or analyze historical data. It provides results according to its experience.\n",
    "\n",
    "Alpavdin defines Machine Learning as-\n",
    "\n",
    "“Optimizing a performance criterion using example data and past experience”."
   ]
  },
  {
   "cell_type": "markdown",
   "metadata": {},
   "source": [
    "Data is the key concept of machine learning. We can also apply its algorithms on data to identify hidden patterns and gain insights. These patterns and gained knowledge help systems to learn and improve their performance.\n",
    "\n",
    "Machine learning technology involves both statistics and computer science.  Statistics allows one to draw inferences from the given data. To implement efficient algorithms we can also use computer science. It represents the required model, and evaluate the performance of the model."
   ]
  },
  {
   "cell_type": "markdown",
   "metadata": {},
   "source": [
    "Machine learning involves some advanced statistical concepts such as modeling and optimization.\n",
    "#### Modeling \n",
    "refers to the conditions or probability distribution for the given sample data. \n",
    "#### Optimization \n",
    "techniques used to find the most appropriate parameters for the given set of data."
   ]
  },
  {
   "cell_type": "code",
   "execution_count": null,
   "metadata": {},
   "outputs": [],
   "source": []
  },
  {
   "cell_type": "code",
   "execution_count": null,
   "metadata": {},
   "outputs": [],
   "source": []
  },
  {
   "cell_type": "code",
   "execution_count": null,
   "metadata": {},
   "outputs": [],
   "source": []
  }
 ],
 "metadata": {
  "kernelspec": {
   "display_name": "Python 3",
   "language": "python",
   "name": "python3"
  },
  "language_info": {
   "codemirror_mode": {
    "name": "ipython",
    "version": 3
   },
   "file_extension": ".py",
   "mimetype": "text/x-python",
   "name": "python",
   "nbconvert_exporter": "python",
   "pygments_lexer": "ipython3",
   "version": "3.6.5"
  }
 },
 "nbformat": 4,
 "nbformat_minor": 2
}
